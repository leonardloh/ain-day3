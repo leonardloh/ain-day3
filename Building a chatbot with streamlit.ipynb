{
 "cells": [
  {
   "cell_type": "code",
   "execution_count": null,
   "metadata": {},
   "outputs": [],
   "source": [
    "import google.generativeai as genai\n",
    "from dotenv import load_dotenv\n",
    "import os\n",
    "\n",
    "load_dotenv()"
   ]
  },
  {
   "cell_type": "markdown",
   "metadata": {},
   "source": [
    "# OPENAI"
   ]
  },
  {
   "cell_type": "code",
   "execution_count": 3,
   "metadata": {},
   "outputs": [
    {
     "name": "stdout",
     "output_type": "stream",
     "text": [
      "Overwriting chatbot.py\n"
     ]
    }
   ],
   "source": [
    "%%writefile chatbot.py\n",
    "import streamlit as st\n",
    "from openai import OpenAI\n",
    "\n",
    "with st.sidebar:\n",
    "    openai_api_key = st.text_input(\"OpenAI API Key\", key=\"chatbot_api_key\", type=\"password\")\n",
    "    \"[Get an OpenAI API key](https://platform.openai.com/account/api-keys)\"\n",
    "    \"[View the source code](https://github.com/streamlit/llm-examples/blob/main/Chatbot.py)\"\n",
    "    \"[![Open in GitHub Codespaces](https://github.com/codespaces/badge.svg)](https://codespaces.new/streamlit/llm-examples?quickstart=1)\"\n",
    "\n",
    "st.title(\"💬 Chatbot\")\n",
    "\n",
    "if \"messages\" not in st.session_state:\n",
    "    st.session_state[\"messages\"] = [{\"role\": \"assistant\", \"content\": \"How can I help you?\"}]\n",
    "\n",
    "for msg in st.session_state.messages:\n",
    "    st.chat_message(msg[\"role\"]).write(msg[\"content\"])\n",
    "\n",
    "if prompt := st.chat_input():\n",
    "    if not openai_api_key:\n",
    "        st.info(\"Please add your OpenAI API key to continue.\")\n",
    "        st.stop()\n",
    "\n",
    "    client = OpenAI()\n",
    "    st.session_state.messages.append({\"role\": \"user\", \"content\": prompt})\n",
    "    st.chat_message(\"user\").write(prompt)\n",
    "    response = client.chat.completions.create(model=\"gpt-4o-mini\", messages=st.session_state.messages)\n",
    "    msg = response.choices[0].message.content\n",
    "    st.session_state.messages.append({\"role\": \"assistant\", \"content\": msg})\n",
    "    st.chat_message(\"assistant\").write(msg)"
   ]
  },
  {
   "cell_type": "code",
   "execution_count": 4,
   "metadata": {},
   "outputs": [
    {
     "name": "stdout",
     "output_type": "stream",
     "text": [
      "\u001b[0m\n",
      "\u001b[34m\u001b[1m  You can now view your Streamlit app in your browser.\u001b[0m\n",
      "\u001b[0m\n",
      "\u001b[34m  Local URL: \u001b[0m\u001b[1mhttp://localhost:8501\u001b[0m\n",
      "\u001b[34m  Network URL: \u001b[0m\u001b[1mhttp://192.168.100.16:8501\u001b[0m\n",
      "\u001b[0m\n",
      "^C\n",
      "\u001b[34m  Stopping...\u001b[0m\n"
     ]
    }
   ],
   "source": [
    "! streamlit run chatbot.py"
   ]
  },
  {
   "cell_type": "code",
   "execution_count": 31,
   "metadata": {},
   "outputs": [
    {
     "name": "stdout",
     "output_type": "stream",
     "text": [
      "Overwriting chatbot.py\n"
     ]
    }
   ],
   "source": [
    "%%writefile chatbot.py\n",
    "\n",
    "import streamlit as st\n",
    "import google.generativeai as genai\n",
    "\n",
    "\n",
    "with st.sidebar:\n",
    "    google_api_key = st.text_input(\"GEMINI API Key\", key=\"chatbot_api_key\", type=\"password\")\n",
    "    \"Get your api key here: https://ai.google.dev/\"\n",
    "\n",
    "st.title(\"💬 Chatbot\")\n",
    "\n",
    "if \"messages\" not in st.session_state:\n",
    "    st.session_state[\"messages\"] = [{\"role\": \"assistant\", \"content\": \"How can I help you?\"}]\n",
    "\n",
    "for msg in st.session_state.messages:\n",
    "    st.chat_message(msg[\"role\"]).write(msg[\"content\"])\n",
    "\n",
    "if prompt := st.chat_input():\n",
    "    if not google_api_key:\n",
    "        st.info(\"Please add your Google API key to continue.\")\n",
    "        st.stop()\n",
    "    \n",
    "    genai.configure(api_key=google_api_key)\n",
    "    model = genai.GenerativeModel('gemini-1.5-flash')\n",
    "    \n",
    "    st.session_state.messages.append({\"role\": \"user\", \"content\": prompt})\n",
    "    st.chat_message(\"user\").write(prompt)\n",
    "    \n",
    "    response = model.generate_content(prompt)\n",
    "    msg = response.text\n",
    "    \n",
    "    st.session_state.messages.append({\"role\": \"assistant\", \"content\": msg})\n",
    "    st.chat_message(\"assistant\").write(msg)\n",
    "\n",
    "    print(st.session_state.messages)"
   ]
  },
  {
   "cell_type": "code",
   "execution_count": 32,
   "metadata": {},
   "outputs": [
    {
     "name": "stdout",
     "output_type": "stream",
     "text": [
      "\u001b[0m\n",
      "\u001b[34m\u001b[1m  You can now view your Streamlit app in your browser.\u001b[0m\n",
      "\u001b[0m\n",
      "\u001b[34m  Local URL: \u001b[0m\u001b[1mhttp://localhost:8501\u001b[0m\n",
      "\u001b[34m  Network URL: \u001b[0m\u001b[1mhttp://192.168.100.16:8501\u001b[0m\n",
      "\u001b[0m\n",
      "[{'role': 'assistant', 'content': 'How can I help you?'}, {'role': 'user', 'content': 'Hi'}, {'role': 'assistant', 'content': 'Hi! How can I help you today? \\n'}]\n",
      "[{'role': 'assistant', 'content': 'How can I help you?'}, {'role': 'user', 'content': 'Hi'}, {'role': 'assistant', 'content': 'Hi! How can I help you today? \\n'}, {'role': 'user', 'content': 'who is anwar ibrahim?'}, {'role': 'assistant', 'content': \"Anwar Ibrahim is a prominent Malaysian politician who has served as **Prime Minister of Malaysia since 2022**. \\n\\nHere's a breakdown of his key aspects:\\n\\n**Political Career:**\\n\\n* **Long-time Opposition Leader:** He was a key figure in the Malaysian opposition for decades, leading the reform movement and advocating for democratic reforms.\\n* **Deputy Prime Minister (1993-1998):** Under Prime Minister Mahathir Mohamad, he served as Deputy Prime Minister and Finance Minister, but was later dismissed and imprisoned on charges of corruption and sodomy.\\n* **Political Prisoner:** He spent years in prison, with his convictions widely seen as politically motivated. His imprisonment sparked widespread protests and international condemnation.\\n* **Return to Power:** After his release from prison, he re-emerged as a prominent figure in Malaysian politics and played a crucial role in the opposition's victory in the 2018 general election. He served as **Prime Minister for 22 months** before resigning due to political instability.\\n* **Current Prime Minister:** He was appointed Prime Minister again in November 2022, becoming the **oldest person** to assume the role.\\n\\n**Key Issues and Ideologies:**\\n\\n* **Economic Reform:** He advocates for a more inclusive and equitable economic system, focusing on reducing poverty and inequality.\\n* **Social Justice:** He champions social justice and human rights, advocating for greater freedom of speech and assembly.\\n* **Good Governance:** He is known for his strong stance against corruption and his commitment to good governance.\\n\\n**International Recognition:**\\n\\n* Anwar Ibrahim is a globally recognized figure for his long-standing fight for democracy and human rights.\\n* He has received numerous awards and recognitions for his work, including the **Democracy Award** from the International Center for Transitional Justice.\\n\\n**Overall, Anwar Ibrahim is a complex and controversial figure in Malaysian politics. He is widely respected for his commitment to democracy and human rights, but his political past remains a subject of debate. His current premiership represents a significant moment for Malaysian politics, with many looking to him to guide the country towards a more just and equitable future.** \\n\"}]\n",
      "^C\n",
      "\u001b[34m  Stopping...\u001b[0m\n"
     ]
    }
   ],
   "source": [
    "! streamlit run chatbot.py"
   ]
  },
  {
   "cell_type": "markdown",
   "metadata": {},
   "source": [
    "## Readings (Optional)"
   ]
  },
  {
   "cell_type": "markdown",
   "metadata": {},
   "source": [
    "n Streamlit, **Session State** is a feature that allows you to store and manage variables across multiple interactions and reruns within a user's session. This capability is essential for creating interactive applications that require data persistence, such as maintaining user inputs, tracking progress, or storing intermediate computations.\n",
    "\n",
    "\n",
    "**Key Aspects of Session State:**\n",
    "\n",
    "\n",
    "- **Persistence Across Reruns:** Streamlit scripts rerun from top to bottom upon each user interaction. Without Session State, variables would reset on every rerun. Session State enables variables to retain their values across these reruns, ensuring continuity in user interactions.\n",
    "\n",
    "\n",
    "- **User-Specific Data:** Each user's session has its own Session State, meaning data stored here is isolated per user. This isolation is crucial for applications where multiple users interact simultaneously, as it prevents data overlap.\n",
    "\n",
    "\n",
    "**Using Session State:**\n",
    "\n",
    "Session State operates similarly to a Python dictionary, allowing you to store, retrieve, and update values using keys.\n",
    "\n",
    "\n",
    "**Initialization:**\n",
    "\n",
    "Before using a variable in Session State, check if it exists; if not, initialize it:\n",
    "\n",
    "```Python\n",
    "import streamlit as st\n",
    "\n",
    "if 'count' not in st.session_state:\n",
    "    st.session_state['count'] = 0\n",
    "\n",
    "```\n",
    "\n",
    "\n",
    "**Updating Values:**\n",
    "\n",
    "To modify a value in Session State:\n",
    "\n",
    "```Python\n",
    "st.session_state.count += 1\n",
    "```\n",
    "\n",
    "\n",
    "**Accessing Values:**\n",
    "\n",
    "Retrieve and use the stored value as needed:\n",
    "\n",
    "```Python\n",
    "st.write(f\"Current count: {st.session_state.count}\")\n",
    "```\n",
    "\n",
    "\n",
    "**Example – Counter Application:**\n",
    "\n",
    "Here's a simple example demonstrating a counter that increments each time a button is pressed:\n",
    "\n",
    "```Python\n",
    "import streamlit as st\n",
    "\n",
    "st.title('Counter Example')\n",
    "\n",
    "if 'count' not in st.session_state:\n",
    "    st.session_state.count = 0\n",
    "\n",
    "if st.button('Increment'):\n",
    "    st.session_state.count += 1\n",
    "\n",
    "st.write(f\"Count = {st.session_state.count}\")\n",
    "```\n",
    "\n",
    "In this example, the `count` variable persists across reruns, allowing the counter to increment correctly with each button press.\n",
    "\n",
    "\n",
    "**Associating Widgets with Session State:**\n",
    "\n",
    "You can link widget values directly to Session State by assigning a `key` parameter to the widget:\n",
    "\n",
    "```Python\n",
    "st.text_input('Enter your name:', key='username')\n",
    "\n",
    "st.write(f\"Hello, {st.session_state.username}!\")\n",
    "```"
   ]
  },
  {
   "cell_type": "markdown",
   "metadata": {},
   "source": [
    "\n",
    "\n",
    "In this case, the input from the text box is stored in `st.session_state.username`, making it accessible throughout the session.\n",
    "\n",
    "**Callbacks and Session State:**\n",
    "\n",
    "Streamlit supports callbacks that trigger functions upon widget interaction, allowing for dynamic updates to Session State:\n",
    "\n"
   ]
  },
  {
   "cell_type": "markdown",
   "metadata": {},
   "source": [
    "```Python\n",
    "import streamlit as st\n",
    "\n",
    "def update_text():\n",
    "    st.session_state.text = st.session_state.input_text\n",
    "\n",
    "st.text_input('Enter text:', key='input_text', on_change=update_text)\n",
    "\n",
    "st.write(f\"Updated text: {st.session_state.get('text', '')}\")\n",
    "```"
   ]
  },
  {
   "cell_type": "markdown",
   "metadata": {},
   "source": [
    "\n",
    "\n",
    "Here, the `update_text` function updates `st.session_state.text` whenever the text input changes.\n",
    "\n",
    "**Limitations:**\n",
    "\n",
    "- **Session Duration:** Session State exists as long as the user's browser tab is open and connected to the Streamlit server. Closing the tab or refreshing the page resets the Session State.\n",
    "\n",
    "- **Non-Persistence:** Session State is not persisted beyond the session. If the Streamlit server restarts or crashes, all data in Session State is lost.\n",
    "\n",
    "For more detailed information and advanced usage, refer to Streamlit's official documentation on [Session State](https://docs.streamlit.io/develop/api-reference/caching-and-state/st.session_state).\n",
    "```"
   ]
  },
  {
   "cell_type": "code",
   "execution_count": null,
   "metadata": {},
   "outputs": [],
   "source": []
  },
  {
   "cell_type": "code",
   "execution_count": null,
   "metadata": {},
   "outputs": [],
   "source": []
  }
 ],
 "metadata": {
  "kernelspec": {
   "display_name": "ainusantara",
   "language": "python",
   "name": "python3"
  },
  "language_info": {
   "codemirror_mode": {
    "name": "ipython",
    "version": 3
   },
   "file_extension": ".py",
   "mimetype": "text/x-python",
   "name": "python",
   "nbconvert_exporter": "python",
   "pygments_lexer": "ipython3",
   "version": "3.11.9"
  }
 },
 "nbformat": 4,
 "nbformat_minor": 2
}
